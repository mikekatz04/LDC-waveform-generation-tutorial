{
 "cells": [
  {
   "cell_type": "markdown",
   "id": "01e4be65",
   "metadata": {},
   "source": [
    "## Scope\n",
    "This notebook shows how to use the fast waveform generators:\n",
    "\n",
    "* LDC\n",
    "* GPU accelerated waveforms\n",
    "\n",
    "The objective is to:\n",
    "\n",
    "* Generate fast waveforms in the frequency domain for Galactic binaries (GB)\n",
    "* Generate fast waveforms in the frequency domain for Massive black hole binaries (MBHB)\n",
    "* Generate fast waveforms for EMRIs"
   ]
  },
  {
   "cell_type": "markdown",
   "id": "ba857b04",
   "metadata": {},
   "source": [
    "### Import necessary packages"
   ]
  },
  {
   "cell_type": "code",
   "execution_count": 1,
   "id": "45f91518",
   "metadata": {},
   "outputs": [
    {
     "name": "stderr",
     "output_type": "stream",
     "text": [
      "/Users/nkorsakova/anaconda3/envs/tutor_env/lib/python3.7/site-packages/gbgpu-0.1-py3.7-macosx-10.9-x86_64.egg/gbgpu/gbgpu.py:24: UserWarning: tdi module not found. No sensitivity information will be included.\n",
      "  warnings.warn(\"tdi module not found. No sensitivity information will be included.\")\n",
      "/Users/nkorsakova/anaconda3/envs/tutor_env/lib/python3.7/site-packages/gbgpu-0.1-py3.7-macosx-10.9-x86_64.egg/gbgpu/utils/utility.py:15: UserWarning: tdi module not found. No sensitivity information will be included.\n",
      "  warnings.warn(\"tdi module not found. No sensitivity information will be included.\")\n"
     ]
    },
    {
     "name": "stdout",
     "output_type": "stream",
     "text": [
      "No CuPy\n",
      "No CuPy or GPU PhenomHM module.\n",
      "No CuPy or GPU response available.\n",
      "No CuPy or GPU interpolation available.\n"
     ]
    }
   ],
   "source": [
    "import numpy as np\n",
    "import time\n",
    "\n",
    "import matplotlib.pyplot as plt\n",
    "%matplotlib inline\n",
    "\n",
    "# Packages required for GPU accelerated GB waveforms\n",
    "from gbgpu.gbgpu import GBGPU\n",
    "from gbgpu.utils.constants import *\n",
    "from gbgpu.utils.utility import *\n",
    "\n",
    "# Packages required for GPU accelerated MBHB waveforms\n",
    "from bbhx.waveformbuild import BBHWaveformFD\n",
    "from bbhx.utils.constants import *\n",
    "\n",
    "# Packages required for LDC GB waveforms\n",
    "import ldc.waveform.fastGB as fastGB \n",
    "from ldc.lisa.orbits import Orbits\n",
    "\n",
    "# Packages required for LISABETA MBHB waveforms\n",
    "from lisabeta.lisa.lisa import GenerateLISATDISignal_SMBH, EvaluateTDIFreqseries\n",
    "import lisabeta.lisa.pyresponse as pyresponse\n",
    "\n",
    "# Packages required for EMRI waveforms\n",
    "from few.waveform import GenerateEMRIWaveform"
   ]
  },
  {
   "cell_type": "markdown",
   "id": "e19be761",
   "metadata": {},
   "source": [
    "### Galactic Binary Waveforms"
   ]
  },
  {
   "cell_type": "markdown",
   "id": "645f3abd",
   "metadata": {},
   "source": [
    "There are two Galactic binary waveform options shown here. \n",
    "\n",
    "* `FastGB` from the LDC: `import ldc.waveform.fastGB.FastGB`. This waveform is built in cython and takes a single binary as input. (Littenberg, Cornish, Babak, Robson, Le Jeune)\n",
    "* `GBGPU` from Katz+: `gbgpu.gbgpu.GBGPU`. Documentation can be found here: [mikekatz04.github.io/GBGPU](https://mikekatz04.github.io/GBGPU/html/index.html). `GBGPU` is vectorized and can be run on GPUs."
   ]
  },
  {
   "cell_type": "markdown",
   "id": "b97753e3",
   "metadata": {},
   "source": [
    "#### Setup all parameters and waveform generators"
   ]
  },
  {
   "cell_type": "code",
   "execution_count": 2,
   "id": "380cdf1a",
   "metadata": {},
   "outputs": [],
   "source": [
    "dt = 10.0\n",
    "Tobs = 4.0 * YEAR\n",
    "\n",
    "# number of points in waveform\n",
    "# if None, will determine inside the code based on amp, f0 (and P2 if running third-body waveform)\n",
    "N = None\n",
    "\n",
    "# number of binaries to batch\n",
    "num_bin = 10\n",
    "\n",
    "# parameters\n",
    "amp = 2e-23  # amplitude\n",
    "f0 = 2e-3  # f0\n",
    "fdot = 7.538331e-18  # fdot\n",
    "fddot = 0.0 # fddot\n",
    "phi0 = 0.1  # initial phase\n",
    "iota = 0.2  # inclination\n",
    "psi = 0.3  # polarization angle\n",
    "lam = 0.4  # ecliptic longitude\n",
    "beta_sky = 0.5  # ecliptic latitude\n",
    "\n",
    "\n",
    "# for batching with GBGPU\n",
    "amp_in = np.full(num_bin, amp)\n",
    "f0_in = np.full(num_bin, f0)\n",
    "fdot_in = np.full(num_bin, fdot)\n",
    "fddot_in = np.full(num_bin, fddot)\n",
    "phi0_in = np.full(num_bin, phi0)\n",
    "iota_in = np.full(num_bin, iota)\n",
    "psi_in = np.full(num_bin, psi)\n",
    "lam_in = np.full(num_bin, lam)\n",
    "beta_sky_in = np.full(num_bin, beta_sky)\n",
    "\n",
    "params = np.array(\n",
    "    [amp_in, f0_in, fdot_in, fddot_in, phi0_in, iota_in, psi_in, lam_in, beta_sky_in,]\n",
    ")\n",
    "\n",
    "fastgb_gen = fastGB.FastGB(delta_t=dt, T=Tobs)\n",
    "gbgpu_gen = GBGPU(use_gpu=False)\n"
   ]
  },
  {
   "cell_type": "markdown",
   "id": "6faac547",
   "metadata": {},
   "source": [
    "#### Run the waveforms and plot"
   ]
  },
  {
   "cell_type": "code",
   "execution_count": 22,
   "id": "b57c1775",
   "metadata": {},
   "outputs": [
    {
     "name": "stdout",
     "output_type": "stream",
     "text": [
      "Mismatch: 5.551115123125783e-16\n"
     ]
    },
    {
     "name": "stderr",
     "output_type": "stream",
     "text": [
      "/Users/nkorsakova/anaconda3/envs/tutor_env/lib/python3.7/site-packages/gbgpu-0.1-py3.7-macosx-10.9-x86_64.egg/gbgpu/utils/utility.py:265: UserWarning: Sensitivity information not available. The number of points in the waveform will not be determined byt the signal strength without the availability of the Sensitivity.\n",
      "  \"Sensitivity information not available. The number of points in the waveform will not be determined byt the signal strength without the availability of the Sensitivity.\"\n",
      "/Users/nkorsakova/anaconda3/lib/python3.7/site-packages/numpy/core/_asarray.py:83: ComplexWarning: Casting complex values to real discards the imaginary part\n",
      "  return array(a, dtype, copy=False, order=order)\n"
     ]
    },
    {
     "data": {
      "text/plain": [
       "<matplotlib.legend.Legend at 0x7f9479e1d210>"
      ]
     },
     "execution_count": 22,
     "metadata": {},
     "output_type": "execute_result"
    },
    {
     "data": {
      "image/png": "[encoded data removed]",
      "text/plain": [
       "<Figure size 432x288 with 1 Axes>"
      ]
     },
     "metadata": {
      "needs_background": "light"
     },
     "output_type": "display_data"
    }
   ],
   "source": [
    "\n",
    "Xs, Ys, Zs = fastgb_gen.get_fd_tdixyz(f0=params[1, 0], fdot=params[2, 0], ampl=params[0, 0],\n",
    "                      theta=np.pi / 2 - params[8, 0], phi=params[7, 0], psi=params[6, 0], incl=params[5, 0], phi0=params[4, 0], oversample=4)\n",
    "\n",
    "gbgpu_gen.run_wave(*params, dt=dt, T=Tobs, oversample=4)\n",
    "A_gbgpu = gbgpu_gen.A[0]\n",
    "E_gbgpu = gbgpu_gen.E[0]\n",
    "f_gbgpu = gbgpu_gen.freqs[0]\n",
    "\n",
    "As, Es, Ts = AET(Xs, Ys, Zs)\n",
    "\n",
    "mismatch = 1- np.dot(As.conj(), A_gbgpu) / np.sqrt(np.dot(As.conj(), As) * np.dot(A_gbgpu.conj(), A_gbgpu))\n",
    "print(\"Mismatch:\", mismatch.real)\n",
    "\n",
    "plt.plot(As.f, As, label=\"LDC\")\n",
    "plt.plot(f_gbgpu, A_gbgpu.real, '--', label=\"GBGPU\")\n",
    "plt.xlabel(\"f [Hz]\", fontsize=14)\n",
    "plt.ylabel(r\"$\\Re(\\tilde{h}(f))$ A-TDI\", fontsize=14)\n",
    "plt.legend()"
   ]
  },
  {
   "cell_type": "markdown",
   "id": "95e80253",
   "metadata": {},
   "source": [
    "### Massive Black Hole waveforms"
   ]
  },
  {
   "cell_type": "markdown",
   "id": "ad88c29b",
   "metadata": {},
   "source": [
    "There are two Massive Black Hole waveform options shown here. \n",
    "\n",
    "* `lisabeta` from the Sylvain Marsat: `from lisabeta.lisa.lisa import GenerateLISATDISignal_SMBH, EvaluateTDIFreqseries`. This waveform takes a single binary as input. Sylvain will talk more about `lisabeta` later on. \n",
    "* `BBHx` from Michael Katz: `bbhx.waveform.BBHWaveformFD`. Documentation can be found here: [mikekatz04.github.io/BBHx](https://mikekatz04.github.io/BBHx/html/index.html). `BBHx` is vectorized and can be run on GPUs."
   ]
  },
  {
   "cell_type": "markdown",
   "id": "dabef459",
   "metadata": {},
   "source": [
    "#### Setup parameters"
   ]
  },
  {
   "cell_type": "code",
   "execution_count": 4,
   "id": "157d9aee",
   "metadata": {},
   "outputs": [],
   "source": [
    "fRef = 0.0                \n",
    "phi0 = 0.0                \n",
    "m1 = 4615384.615384615     \n",
    "m2 = 1384615.3846153845   \n",
    "a1 = 0.5                  \n",
    "a2 = 0.2                \n",
    "dist = 6791.810623950793 \n",
    "inc = 1.0471975511965976  \n",
    "beta = 1.0471975511965976 \n",
    "lam = 0.7853981633974483  \n",
    "psi = 0.7853981633974483 \n",
    "tRef = 1.0 * YRSID_SI\n",
    "\n",
    "freq = np.logspace(-4, 0, 1024)\n",
    "freq_new = np.logspace(-4, 1, 100000)\n",
    "modes = [(2,2)]\n"
   ]
  },
  {
   "cell_type": "markdown",
   "id": "7a31d120",
   "metadata": {},
   "source": [
    "#### Setup `lisabeta`"
   ]
  },
  {
   "cell_type": "code",
   "execution_count": 5,
   "id": "01d221a6",
   "metadata": {},
   "outputs": [],
   "source": [
    "\n",
    "lb_params = dict(m1=m1,        # Redshifted mass of body 1 (Solar masses)\n",
    "                 m2=m2,        # Redshifted mass of body 2 (solar masses)\n",
    "                 chi1=a1,      # Dimensionless spin of body 1 (in [-1, 1])\n",
    "                 chi2=a2,      # Dimensionless spin of body 2 (in [-1, 1])\n",
    "                 Deltat=tRef,  # Time shift (s)\n",
    "                 dist=dist,    # Luminosity distance (Mpc)\n",
    "                 inc=inc,      # Inclination angle (rad)\n",
    "                 phi=phi0,     # Observer's azimuthal phase (rad)\n",
    "                 beta=beta,    # Source latitude (rad)\n",
    "                 psi=psi)      # Polarization angle (rad)\n",
    "lb_params['lambda'] = lam      # Ecliptic longitude (rad)\n",
    "\n",
    "Tobs_yr = 1.2 * YRSID_SI\n",
    "\n",
    "#Orbits initialization\n",
    "lisa_params = pyresponse.LISAconstDict[\"Proposal\"]\n",
    "\n",
    "wvf_pars = {\n",
    "            \"minf\": 1e-5,  \"maxf\": 0.1,\n",
    "            \"timetomerger_max\": 1.0,\n",
    "            \"fend\": None, \"tmin\": None, \"tmax\": Tobs_yr,\n",
    "            \"TDI\": \"TDIAET\", \"acc\": 1e-4,\n",
    "            \"order_fresnel_stencil\": 0,\n",
    "            \"LISAconst\": lisa_params,\n",
    "            \"responseapprox\": \"full\",\n",
    "            \"frozenLISA\": False,\n",
    "            \"TDIrescaled\": False,\n",
    "        }"
   ]
  },
  {
   "cell_type": "markdown",
   "id": "bfb84c21",
   "metadata": {},
   "source": [
    "#### Setup `BBHx`"
   ]
  },
  {
   "cell_type": "code",
   "execution_count": 6,
   "id": "728fba22",
   "metadata": {},
   "outputs": [],
   "source": [
    "\n",
    "katz_params = [m1,          # Redshifted mass of body 1 (solar masses)\n",
    "        m2,                 # Redshifted mass of body 2 (solar masses)\n",
    "        a1,                 # Dimensionless spin of body 1 (in [-1, 1])\n",
    "        a2,                 # Dimensionless spin of body 2 (in [-1, 1])\n",
    "        dist * 1e6 * PC_SI, # Luminosity distance (Mpc)\n",
    "        phi0,               # Observer's azimuthal phase (rad)\n",
    "        fRef,               # f_ref -> fmax = max(f^2A(f))\n",
    "        inc,                # Inclination angle (rad)\n",
    "        lam,                # Source longitude (rad)\n",
    "        beta,               # Source latitude (rad)\n",
    "        psi,                # Polarization angle (rad)\n",
    "        tRef,]              # Time shift (s)         \n",
    "\n",
    "\n",
    "katz_gen = BBHWaveformFD(amp_phase_kwargs=dict(run_phenomd=True), use_gpu=False)\n"
   ]
  },
  {
   "cell_type": "markdown",
   "id": "7f084b75",
   "metadata": {},
   "source": [
    "#### Create Waveforms"
   ]
  },
  {
   "cell_type": "code",
   "execution_count": 7,
   "id": "d919f1ec",
   "metadata": {},
   "outputs": [
    {
     "name": "stdout",
     "output_type": "stream",
     "text": [
      "Mismatch: 5.292791760425075e-10\n"
     ]
    }
   ],
   "source": [
    "lb_temp = GenerateLISATDISignal_SMBH(lb_params, modes=[(2, 2)], approximant='IMRPhenomD', tf_method='analytical', **wvf_pars)\n",
    "\n",
    "\n",
    "lb_wave_all = np.conj(EvaluateTDIFreqseries(lb_temp['tdi'], freq_new)[(2, 2)]['chan1'])\n",
    "\n",
    "katz_wave_all = katz_gen(*katz_params, freqs=freq_new, modes=[(2,2)], direct=False, length=1024, fill=True, t_obs_end=0.0)[0, 0] \n",
    "\n",
    "mismatch = 1- np.dot(lb_wave_all.conj(), katz_wave_all) / np.sqrt(np.dot(lb_wave_all.conj(), lb_wave_all) * np.dot(katz_wave_all.conj(), katz_wave_all))\n",
    "print(\"Mismatch:\", mismatch.real)"
   ]
  },
  {
   "cell_type": "code",
   "execution_count": 24,
   "id": "506d4c7c",
   "metadata": {},
   "outputs": [
    {
     "data": {
      "text/plain": [
       "<matplotlib.legend.Legend at 0x7f9478feb190>"
      ]
     },
     "execution_count": 24,
     "metadata": {},
     "output_type": "execute_result"
    },
    {
     "data": {
      "image/png": "[encoded data removed]",
      "text/plain": [
       "<Figure size 432x288 with 1 Axes>"
      ]
     },
     "metadata": {
      "needs_background": "light"
     },
     "output_type": "display_data"
    }
   ],
   "source": [
    "plt.loglog(freq_new, np.abs(lb_wave_all), label=\"LISABETA\")\n",
    "plt.loglog(freq_new, np.abs(katz_wave_all), '--', label=\"BBHX\")\n",
    "plt.xlabel(\"f [Hz]\", fontsize=14)\n",
    "plt.ylabel(r\"$\\tilde{h}(f)$ (Hz$^{-1/2}$) A-TDI\", fontsize=14)\n",
    "plt.legend()"
   ]
  },
  {
   "cell_type": "markdown",
   "id": "ce79d378",
   "metadata": {},
   "source": [
    "### EMRI Waveforms"
   ]
  },
  {
   "cell_type": "markdown",
   "id": "b2e5fe6c",
   "metadata": {},
   "source": [
    "EMRI waveforms coming to the LDC with be from the `FastEMRIWaveforms` package. Documentation can be found here: [bhptoolkit.org/FastEMRIWaveforms](https://bhptoolkit.org/FastEMRIWaveforms/html/index.html). `FastEMRIWaveforms` is also GPU-accelerated. \n",
    "\n",
    "With `FastEMRIWaveforms`, there are two main waveform choices:\n",
    "* Adiabatic Schwarzschild Eccentric Relativistic\n",
    "* 5PN trajectory + AAK Waveform"
   ]
  },
  {
   "cell_type": "markdown",
   "id": "7618adb0",
   "metadata": {},
   "source": [
    "#### Setup parameters and waveform generators"
   ]
  },
  {
   "cell_type": "code",
   "execution_count": 9,
   "id": "717f2ccb",
   "metadata": {},
   "outputs": [
    {
     "name": "stderr",
     "output_type": "stream",
     "text": [
      "/Users/nkorsakova/anaconda3/envs/tutor_env/lib/python3.7/site-packages/few-1.4.6-py3.7-macosx-10.9-x86_64.egg/few/utils/utility.py:776: UserWarning: The file FluxNewMinusPNScaled_fixed_y_order.dat did not open sucessfully. It will now be downloaded to the proper location.\n",
      "  fp\n",
      "--2022-07-25 11:46:11--  https://zenodo.org/record/3981654/files/FluxNewMinusPNScaled_fixed_y_order.dat\n",
      "Résolution de zenodo.org (zenodo.org)… 137.138.76.77\n",
      "Connexion à zenodo.org (zenodo.org)|137.138.76.77|:443… connecté.\n",
      "requête HTTP transmise, en attente de la réponse… 200 OK\n",
      "Taille : 61494 (60K) [application/octet-stream]\n",
      "Sauvegarde en : « FluxNewMinusPNScaled_fixed_y_order.dat »\n",
      "\n",
      "     0K .......... .......... .......... .......... .......... 83%  218K 0s\n",
      "    50K ..........                                            100% 66,8M=0,2s\n",
      "\n",
      "2022-07-25 11:46:13 (262 KB/s) — « FluxNewMinusPNScaled_fixed_y_order.dat » sauvegardé [61494/61494]\n",
      "\n",
      "/Users/nkorsakova/anaconda3/envs/tutor_env/lib/python3.7/site-packages/few-1.4.6-py3.7-macosx-10.9-x86_64.egg/few/utils/utility.py:776: UserWarning: The file SchwarzschildEccentricInput.hdf5 did not open sucessfully. It will now be downloaded to the proper location.\n",
      "  fp\n",
      "--2022-07-25 11:46:13--  https://zenodo.org/record/3981654/files/SchwarzschildEccentricInput.hdf5\n",
      "Résolution de zenodo.org (zenodo.org)… 137.138.76.77\n",
      "Connexion à zenodo.org (zenodo.org)|137.138.76.77|:443… connecté.\n",
      "requête HTTP transmise, en attente de la réponse… 200 OK\n",
      "Taille : 12885136 (12M) [application/octet-stream]\n",
      "Sauvegarde en : « SchwarzschildEccentricInput.hdf5 »\n",
      "\n",
      "     0K .......... .......... .......... .......... ..........  0% 4,22M 3s\n",
      "    50K .......... .......... .......... .......... ..........  0% 2,65M 4s\n",
      "   100K .......... .......... .......... .......... ..........  1% 1,47M 5s\n",
      "   150K .......... .......... .......... .......... ..........  1% 59,2M 4s\n",
      "   200K .......... .......... .......... .......... ..........  1% 5,15M 4s\n",
      "   250K .......... .......... .......... .......... ..........  2% 2,39M 4s\n",
      "   300K .......... .......... .......... .......... ..........  2% 4,99M 4s\n",
      "   350K .......... .......... .......... .......... ..........  3% 2,74M 4s\n",
      "   400K .......... .......... .......... .......... ..........  3% 2,90M 4s\n",
      "   450K .......... .......... .......... .......... ..........  3% 4,57M 4s\n",
      "   500K .......... .......... .......... .......... ..........  4% 3,00M 4s\n",
      "   550K .......... .......... .......... .......... ..........  4% 4,61M 4s\n",
      "   600K .......... .......... .......... .......... ..........  5% 4,50M 3s\n",
      "   650K .......... .......... .......... .......... ..........  5% 2,89M 3s\n",
      "   700K .......... .......... .......... .......... ..........  5% 4,88M 3s\n",
      "   750K .......... .......... .......... .......... ..........  6% 3,35M 3s\n",
      "   800K .......... .......... .......... .......... ..........  6% 3,95M 3s\n",
      "   850K .......... .......... .......... .......... ..........  7% 4,67M 3s\n",
      "   900K .......... .......... .......... .......... ..........  7% 3,90M 3s\n",
      "   950K .......... .......... .......... .......... ..........  7% 3,87M 3s\n",
      "  1000K .......... .......... .......... .......... ..........  8% 6,20M 3s\n",
      "  1050K .......... .......... .......... .......... ..........  8% 3,60M 3s\n",
      "  1100K .......... .......... .......... .......... ..........  9% 3,63M 3s\n",
      "  1150K .......... .......... .......... .......... ..........  9% 2,30M 3s\n",
      "  1200K .......... .......... .......... .......... ..........  9% 3,05M 3s\n",
      "  1250K .......... .......... .......... .......... .......... 10% 5,04M 3s\n",
      "  1300K .......... .......... .......... .......... .......... 10% 2,55M 3s\n",
      "  1350K .......... .......... .......... .......... .......... 11% 2,69M 3s\n",
      "  1400K .......... .......... .......... .......... .......... 11% 2,57M 3s\n",
      "  1450K .......... .......... .......... .......... .......... 11% 2,85M 3s\n",
      "  1500K .......... .......... .......... .......... .......... 12% 2,70M 3s\n",
      "  1550K .......... .......... .......... .......... .......... 12% 2,61M 3s\n",
      "  1600K .......... .......... .......... .......... .......... 13% 2,83M 3s\n",
      "  1650K .......... .......... .......... .......... .......... 13% 2,95M 3s\n",
      "  1700K .......... .......... .......... .......... .......... 13% 3,68M 3s\n",
      "  1750K .......... .......... .......... .......... .......... 14% 3,00M 3s\n",
      "  1800K .......... .......... .......... .......... .......... 14% 3,96M 3s\n",
      "  1850K .......... .......... .......... .......... .......... 15% 2,67M 3s\n",
      "  1900K .......... .......... .......... .......... .......... 15% 2,68M 3s\n",
      "  1950K .......... .......... .......... .......... .......... 15% 2,50M 3s\n",
      "  2000K .......... .......... .......... .......... .......... 16% 2,39M 3s\n",
      "  2050K .......... .......... .......... .......... .......... 16% 2,81M 3s\n",
      "  2100K .......... .......... .......... .......... .......... 17% 2,81M 3s\n",
      "  2150K .......... .......... .......... .......... .......... 17% 2,75M 3s\n",
      "  2200K .......... .......... .......... .......... .......... 17% 2,87M 3s\n",
      "  2250K .......... .......... .......... .......... .......... 18% 4,54M 3s\n",
      "  2300K .......... .......... .......... .......... .......... 18% 2,68M 3s\n",
      "  2350K .......... .......... .......... .......... .......... 19% 1,91M 3s\n",
      "  2400K .......... .......... .......... .......... .......... 19% 2,66M 3s\n",
      "  2450K .......... .......... .......... .......... .......... 19% 2,52M 3s\n",
      "  2500K .......... .......... .......... .......... .......... 20% 2,62M 3s\n",
      "  2550K .......... .......... .......... .......... .......... 20% 4,05M 3s\n",
      "  2600K .......... .......... .......... .......... .......... 21% 2,05M 3s\n",
      "  2650K .......... .......... .......... .......... .......... 21% 3,15M 3s\n",
      "  2700K .......... .......... .......... .......... .......... 21% 3,04M 3s\n",
      "  2750K .......... .......... .......... .......... .......... 22% 2,60M 3s\n",
      "  2800K .......... .......... .......... .......... .......... 22% 3,94M 3s\n",
      "  2850K .......... .......... .......... .......... .......... 23% 2,68M 3s\n",
      "  2900K .......... .......... .......... .......... .......... 23% 3,57M 3s\n",
      "  2950K .......... .......... .......... .......... .......... 23% 3,37M 3s\n",
      "  3000K .......... .......... .......... .......... .......... 24% 3,96M 3s\n",
      "  3050K .......... .......... .......... .......... .......... 24% 3,49M 3s\n",
      "  3100K .......... .......... .......... .......... .......... 25% 2,74M 3s\n",
      "  3150K .......... .......... .......... .......... .......... 25% 2,73M 3s\n",
      "  3200K .......... .......... .......... .......... .......... 25% 4,11M 3s\n",
      "  3250K .......... .......... .......... .......... .......... 26% 4,75M 3s\n",
      "  3300K .......... .......... .......... .......... .......... 26% 2,91M 3s\n",
      "  3350K .......... .......... .......... .......... .......... 27% 4,60M 3s\n",
      "  3400K .......... .......... .......... .......... .......... 27% 2,98M 3s\n",
      "  3450K .......... .......... .......... .......... .......... 27% 4,55M 3s\n",
      "  3500K .......... .......... .......... .......... .......... 28% 4,65M 3s\n",
      "  3550K .......... .......... .......... .......... .......... 28% 2,64M 3s\n",
      "  3600K .......... .......... .......... .......... .......... 29% 3,33M 3s\n",
      "  3650K .......... .......... .......... .......... .......... 29% 4,11M 3s\n",
      "  3700K .......... .......... .......... .......... .......... 29% 4,83M 3s\n",
      "  3750K .......... .......... .......... .......... .......... 30% 3,12M 3s\n",
      "  3800K .......... .......... .......... .......... .......... 30% 4,96M 3s\n",
      "  3850K .......... .......... .......... .......... .......... 30% 4,08M 3s\n",
      "  3900K .......... .......... .......... .......... .......... 31% 4,87M 3s\n",
      "  3950K .......... .......... .......... .......... .......... 31% 2,97M 3s\n",
      "  4000K .......... .......... .......... .......... .......... 32% 3,07M 3s\n",
      "  4050K .......... .......... .......... .......... .......... 32% 7,79M 3s\n",
      "  4100K .......... .......... .......... .......... .......... 32% 4,37M 3s\n",
      "  4150K .......... .......... .......... .......... .......... 33% 3,03M 3s\n",
      "  4200K .......... .......... .......... .......... .......... 33% 3,98M 3s\n",
      "  4250K .......... .......... .......... .......... .......... 34% 4,65M 2s\n",
      "  4300K .......... .......... .......... .......... .......... 34% 2,08M 2s\n",
      "  4350K .......... .......... .......... .......... .......... 34% 3,73M 2s\n",
      "  4400K .......... .......... .......... .......... .......... 35% 3,35M 2s\n",
      "  4450K .......... .......... .......... .......... .......... 35% 2,47M 2s\n",
      "  4500K .......... .......... .......... .......... .......... 36% 2,71M 2s\n",
      "  4550K .......... .......... .......... .......... .......... 36% 2,52M 2s\n",
      "  4600K .......... .......... .......... .......... .......... 36% 2,86M 2s\n",
      "  4650K .......... .......... .......... .......... .......... 37% 4,51M 2s\n"
     ]
    },
    {
     "name": "stderr",
     "output_type": "stream",
     "text": [
      "  4700K .......... .......... .......... .......... .......... 37% 2,50M 2s\n",
      "  4750K .......... .......... .......... .......... .......... 38% 2,71M 2s\n",
      "  4800K .......... .......... .......... .......... .......... 38% 3,82M 2s\n",
      "  4850K .......... .......... .......... .......... .......... 38% 3,57M 2s\n",
      "  4900K .......... .......... .......... .......... .......... 39% 3,62M 2s\n",
      "  4950K .......... .......... .......... .......... .......... 39% 3,65M 2s\n",
      "  5000K .......... .......... .......... .......... .......... 40% 3,42M 2s\n",
      "  5050K .......... .......... .......... .......... .......... 40% 4,28M 2s\n",
      "  5100K .......... .......... .......... .......... .......... 40% 2,83M 2s\n",
      "  5150K .......... .......... .......... .......... .......... 41% 2,73M 2s\n",
      "  5200K .......... .......... .......... .......... .......... 41% 3,99M 2s\n",
      "  5250K .......... .......... .......... .......... .......... 42% 3,20M 2s\n",
      "  5300K .......... .......... .......... .......... .......... 42% 4,74M 2s\n",
      "  5350K .......... .......... .......... .......... .......... 42% 2,96M 2s\n",
      "  5400K .......... .......... .......... .......... .......... 43% 2,54M 2s\n",
      "  5450K .......... .......... .......... .......... .......... 43% 3,78M 2s\n",
      "  5500K .......... .......... .......... .......... .......... 44% 8,62M 2s\n",
      "  5550K .......... .......... .......... .......... .......... 44% 2,55M 2s\n",
      "  5600K .......... .......... .......... .......... .......... 44% 3,93M 2s\n",
      "  5650K .......... .......... .......... .......... .......... 45% 2,88M 2s\n",
      "  5700K .......... .......... .......... .......... .......... 45% 17,5M 2s\n",
      "  5750K .......... .......... .......... .......... .......... 46% 4,69M 2s\n",
      "  5800K .......... .......... .......... .......... .......... 46% 4,19M 2s\n",
      "  5850K .......... .......... .......... .......... .......... 46% 4,48M 2s\n",
      "  5900K .......... .......... .......... .......... .......... 47% 5,08M 2s\n",
      "  5950K .......... .......... .......... .......... .......... 47% 1,65M 2s\n",
      "  6000K .......... .......... .......... .......... .......... 48% 46,9M 2s\n",
      "  6050K .......... .......... .......... .......... .......... 48% 3,36M 2s\n",
      "  6100K .......... .......... .......... .......... .......... 48% 2,10M 2s\n",
      "  6150K .......... .......... .......... .......... .......... 49% 5,80M 2s\n",
      "  6200K .......... .......... .......... .......... .......... 49% 2,77M 2s\n",
      "  6250K .......... .......... .......... .......... .......... 50% 2,60M 2s\n",
      "  6300K .......... .......... .......... .......... .......... 50% 2,65M 2s\n",
      "  6350K .......... .......... .......... .......... .......... 50% 1,90M 2s\n",
      "  6400K .......... .......... .......... .......... .......... 51% 3,93M 2s\n",
      "  6450K .......... .......... .......... .......... .......... 51% 2,97M 2s\n",
      "  6500K .......... .......... .......... .......... .......... 52% 2,67M 2s\n",
      "  6550K .......... .......... .......... .......... .......... 52% 2,71M 2s\n",
      "  6600K .......... .......... .......... .......... .......... 52% 4,62M 2s\n",
      "  6650K .......... .......... .......... .......... .......... 53% 2,87M 2s\n",
      "  6700K .......... .......... .......... .......... .......... 53% 4,66M 2s\n",
      "  6750K .......... .......... .......... .......... .......... 54% 2,63M 2s\n",
      "  6800K .......... .......... .......... .......... .......... 54% 4,47M 2s\n",
      "  6850K .......... .......... .......... .......... .......... 54% 3,15M 2s\n",
      "  6900K .......... .......... .......... .......... .......... 55% 4,64M 2s\n",
      "  6950K .......... .......... .......... .......... .......... 55% 2,88M 2s\n",
      "  7000K .......... .......... .......... .......... .......... 56% 4,52M 2s\n",
      "  7050K .......... .......... .......... .......... .......... 56% 2,76M 2s\n",
      "  7100K .......... .......... .......... .......... .......... 56% 4,93M 2s\n",
      "  7150K .......... .......... .......... .......... .......... 57% 2,61M 2s\n",
      "  7200K .......... .......... .......... .......... .......... 57% 2,36M 2s\n",
      "  7250K .......... .......... .......... .......... .......... 58% 5,67M 2s\n",
      "  7300K .......... .......... .......... .......... .......... 58% 2,28M 2s\n",
      "  7350K .......... .......... .......... .......... .......... 58% 3,25M 2s\n",
      "  7400K .......... .......... .......... .......... .......... 59% 2,72M 2s\n",
      "  7450K .......... .......... .......... .......... .......... 59% 3,71M 2s\n",
      "  7500K .......... .......... .......... .......... .......... 60% 3,32M 2s\n",
      "  7550K .......... .......... .......... .......... .......... 60% 2,67M 1s\n",
      "  7600K .......... .......... .......... .......... .......... 60% 4,43M 1s\n",
      "  7650K .......... .......... .......... .......... .......... 61% 3,10M 1s\n",
      "  7700K .......... .......... .......... .......... .......... 61% 4,68M 1s\n",
      "  7750K .......... .......... .......... .......... .......... 61% 2,79M 1s\n",
      "  7800K .......... .......... .......... .......... .......... 62% 4,75M 1s\n",
      "  7850K .......... .......... .......... .......... .......... 62% 4,12M 1s\n",
      "  7900K .......... .......... .......... .......... .......... 63% 4,57M 1s\n",
      "  7950K .......... .......... .......... .......... .......... 63% 2,84M 1s\n",
      "  8000K .......... .......... .......... .......... .......... 63% 3,06M 1s\n",
      "  8050K .......... .......... .......... .......... .......... 64% 4,08M 1s\n",
      "  8100K .......... .......... .......... .......... .......... 64% 4,06M 1s\n",
      "  8150K .......... .......... .......... .......... .......... 65% 2,27M 1s\n",
      "  8200K .......... .......... .......... .......... .......... 65% 6,92M 1s\n",
      "  8250K .......... .......... .......... .......... .......... 65% 2,60M 1s\n",
      "  8300K .......... .......... .......... .......... .......... 66% 4,62M 1s\n",
      "  8350K .......... .......... .......... .......... .......... 66% 2,62M 1s\n",
      "  8400K .......... .......... .......... .......... .......... 67% 2,90M 1s\n",
      "  8450K .......... .......... .......... .......... .......... 67% 4,14M 1s\n",
      "  8500K .......... .......... .......... .......... .......... 67% 4,60M 1s\n",
      "  8550K .......... .......... .......... .......... .......... 68% 3,35M 1s\n",
      "  8600K .......... .......... .......... .......... .......... 68% 4,15M 1s\n",
      "  8650K .......... .......... .......... .......... .......... 69% 4,36M 1s\n",
      "  8700K .......... .......... .......... .......... .......... 69% 3,78M 1s\n",
      "  8750K .......... .......... .......... .......... .......... 69% 3,39M 1s\n",
      "  8800K .......... .......... .......... .......... .......... 70% 4,43M 1s\n",
      "  8850K .......... .......... .......... .......... .......... 70% 3,66M 1s\n",
      "  8900K .......... .......... .......... .......... .......... 71% 4,51M 1s\n",
      "  8950K .......... .......... .......... .......... .......... 71% 4,50M 1s\n",
      "  9000K .......... .......... .......... .......... .......... 71% 4,76M 1s\n",
      "  9050K .......... .......... .......... .......... .......... 72% 2,82M 1s\n",
      "  9100K .......... .......... .......... .......... .......... 72% 5,12M 1s\n",
      "  9150K .......... .......... .......... .......... .......... 73% 2,93M 1s\n",
      "  9200K .......... .......... .......... .......... .......... 73% 4,78M 1s\n",
      "  9250K .......... .......... .......... .......... .......... 73% 4,45M 1s\n",
      "  9300K .......... .......... .......... .......... .......... 74% 4,84M 1s\n",
      "  9350K .......... .......... .......... .......... .......... 74% 4,75M 1s\n",
      "  9400K .......... .......... .......... .......... .......... 75% 4,77M 1s\n",
      "  9450K .......... .......... .......... .......... .......... 75% 4,97M 1s\n",
      "  9500K .......... .......... .......... .......... .......... 75% 3,26M 1s\n",
      "  9550K .......... .......... .......... .......... .......... 76% 4,01M 1s\n",
      "  9600K .......... .......... .......... .......... .......... 76% 4,29M 1s\n",
      "  9650K .......... .......... .......... .......... .......... 77% 3,62M 1s\n",
      "  9700K .......... .......... .......... .......... .......... 77% 5,15M 1s\n",
      "  9750K .......... .......... .......... .......... .......... 77% 4,60M 1s\n",
      "  9800K .......... .......... .......... .......... .......... 78% 3,85M 1s\n",
      "  9850K .......... .......... .......... .......... .......... 78% 4,78M 1s\n",
      "  9900K .......... .......... .......... .......... .......... 79% 2,67M 1s\n",
      "  9950K .......... .......... .......... .......... .......... 79% 2,46M 1s\n",
      " 10000K .......... .......... .......... .......... .......... 79% 2,18M 1s\n",
      " 10050K .......... .......... .......... .......... .......... 80% 3,01M 1s\n",
      " 10100K .......... .......... .......... .......... .......... 80% 2,10M 1s\n",
      " 10150K .......... .......... .......... .......... .......... 81% 3,60M 1s\n",
      " 10200K .......... .......... .......... .......... .......... 81% 3,94M 1s\n",
      " 10250K .......... .......... .......... .......... .......... 81% 2,86M 1s\n",
      " 10300K .......... .......... .......... .......... .......... 82% 4,63M 1s\n",
      " 10350K .......... .......... .......... .......... .......... 82% 2,04M 1s\n",
      " 10400K .......... .......... .......... .......... .......... 83% 4,51M 1s\n",
      " 10450K .......... .......... .......... .......... .......... 83% 4,21M 1s\n",
      " 10500K .......... .......... .......... .......... .......... 83% 3,21M 1s\n",
      " 10550K .......... .......... .......... .......... .......... 84% 3,46M 1s\n",
      " 10600K .......... .......... .......... .......... .......... 84% 3,29M 1s\n",
      " 10650K .......... .......... .......... .......... .......... 85% 5,32M 1s\n"
     ]
    },
    {
     "name": "stderr",
     "output_type": "stream",
     "text": [
      " 10700K .......... .......... .......... .......... .......... 85% 3,10M 1s\n",
      " 10750K .......... .......... .......... .......... .......... 85% 2,75M 1s\n",
      " 10800K .......... .......... .......... .......... .......... 86% 4,44M 1s\n",
      " 10850K .......... .......... .......... .......... .......... 86% 4,50M 0s\n",
      " 10900K .......... .......... .......... .......... .......... 87% 3,10M 0s\n",
      " 10950K .......... .......... .......... .......... .......... 87% 4,64M 0s\n",
      " 11000K .......... .......... .......... .......... .......... 87% 3,18M 0s\n",
      " 11050K .......... .......... .......... .......... .......... 88% 4,26M 0s\n",
      " 11100K .......... .......... .......... .......... .......... 88% 4,99M 0s\n",
      " 11150K .......... .......... .......... .......... .......... 89% 2,82M 0s\n",
      " 11200K .......... .......... .......... .......... .......... 89% 2,99M 0s\n",
      " 11250K .......... .......... .......... .......... .......... 89% 2,60M 0s\n",
      " 11300K .......... .......... .......... .......... .......... 90% 4,56M 0s\n",
      " 11350K .......... .......... .......... .......... .......... 90% 2,90M 0s\n",
      " 11400K .......... .......... .......... .......... .......... 90% 4,06M 0s\n",
      " 11450K .......... .......... .......... .......... .......... 91% 2,37M 0s\n",
      " 11500K .......... .......... .......... .......... .......... 91% 4,10M 0s\n",
      " 11550K .......... .......... .......... .......... .......... 92% 2,62M 0s\n",
      " 11600K .......... .......... .......... .......... .......... 92% 3,43M 0s\n",
      " 11650K .......... .......... .......... .......... .......... 92% 4,06M 0s\n",
      " 11700K .......... .......... .......... .......... .......... 93% 4,26M 0s\n",
      " 11750K .......... .......... .......... .......... .......... 93% 2,98M 0s\n",
      " 11800K .......... .......... .......... .......... .......... 94% 4,43M 0s\n",
      " 11850K .......... .......... .......... .......... .......... 94% 3,23M 0s\n",
      " 11900K .......... .......... .......... .......... .......... 94% 4,36M 0s\n",
      " 11950K .......... .......... .......... .......... .......... 95% 3,02M 0s\n",
      " 12000K .......... .......... .......... .......... .......... 95% 1,43M 0s\n",
      " 12050K .......... .......... .......... .......... .......... 96% 17,2M 0s\n",
      " 12100K .......... .......... .......... .......... .......... 96% 26,0M 0s\n",
      " 12150K .......... .......... .......... .......... .......... 96% 2,27M 0s\n",
      " 12200K .......... .......... .......... .......... .......... 97% 10,6M 0s\n",
      " 12250K .......... .......... .......... .......... .......... 97% 2,60M 0s\n",
      " 12300K .......... .......... .......... .......... .......... 98% 4,34M 0s\n",
      " 12350K .......... .......... .......... .......... .......... 98% 2,59M 0s\n",
      " 12400K .......... .......... .......... .......... .......... 98% 4,03M 0s\n",
      " 12450K .......... .......... .......... .......... .......... 99% 2,97M 0s\n",
      " 12500K .......... .......... .......... .......... .......... 99% 4,57M 0s\n",
      " 12550K .......... .......... .......... ...                  100% 3,68M=3,6s\n",
      "\n",
      "2022-07-25 11:46:18 (3,37 MB/s) — « SchwarzschildEccentricInput.hdf5 » sauvegardé [12885136/12885136]\n",
      "\n",
      "/Users/nkorsakova/anaconda3/envs/tutor_env/lib/python3.7/site-packages/few-1.4.6-py3.7-macosx-10.9-x86_64.egg/few/utils/utility.py:776: UserWarning: The file AmplitudeVectorNorm.dat did not open sucessfully. It will now be downloaded to the proper location.\n",
      "  fp\n",
      "--2022-07-25 11:46:18--  https://zenodo.org/record/3981654/files/AmplitudeVectorNorm.dat\n",
      "Résolution de zenodo.org (zenodo.org)… 137.138.76.77\n",
      "Connexion à zenodo.org (zenodo.org)|137.138.76.77|:443… connecté.\n",
      "requête HTTP transmise, en attente de la réponse… 200 OK\n",
      "Taille : 49517 (48K) [application/octet-stream]\n",
      "Sauvegarde en : « AmplitudeVectorNorm.dat »\n",
      "\n",
      "     0K .......... .......... .......... .......... ........  100% 4,78M=0,01s\n",
      "\n",
      "2022-07-25 11:46:19 (4,78 MB/s) — « AmplitudeVectorNorm.dat » sauvegardé [49517/49517]\n",
      "\n"
     ]
    }
   ],
   "source": [
    "gen_wave_rel = GenerateEMRIWaveform(\"FastSchwarzschildEccentricFlux\", use_gpu=False)\n",
    "gen_wave_aak = GenerateEMRIWaveform(\"Pn5AAKWaveform\", use_gpu=False)\n",
    "\n",
    "# parameters\n",
    "T = 0.01  # observation time (years)\n",
    "dt = 15.0  # time step (seconds)\n",
    "M = 1e6 # large mass (solar)\n",
    "a = 0.1  # spin / will be ignored in Schwarzschild waveform\n",
    "mu = 1e1  # small mass (solar)\n",
    "p0 = 12.0  # initial separation\n",
    "e0 = 0.2  # initial eccentricity\n",
    "x0 = 0.8  # initial cosine of the inclination / will be ignored in Schwarzschild waveform\n",
    "qK = 0.2  # polar spin angle\n",
    "phiK = 0.2  # azimuthal viewing angle\n",
    "qS = 0.3  # polar sky angle\n",
    "phiS = 0.3  # azimuthal viewing angle\n",
    "dist = 1.0  # distance\n",
    "Phi_phi0 = 1.0  # initial phase in phi\n",
    "Phi_theta0 = 2.0  #  initial phase in theta\n",
    "Phi_r0 = 3.0  #  initial phase in r\n",
    "\n"
   ]
  },
  {
   "cell_type": "markdown",
   "id": "a62fc479",
   "metadata": {},
   "source": [
    "#### Generate waveforms and plot"
   ]
  },
  {
   "cell_type": "code",
   "execution_count": 29,
   "id": "22f682fb",
   "metadata": {},
   "outputs": [
    {
     "data": {
      "text/plain": [
       "<matplotlib.legend.Legend at 0x7f947dbc9210>"
      ]
     },
     "execution_count": 29,
     "metadata": {},
     "output_type": "execute_result"
    },
    {
     "data": {
      "image/png": "[encoded data removed]",
      "text/plain": [
       "<Figure size 432x288 with 1 Axes>"
      ]
     },
     "metadata": {
      "needs_background": "light"
     },
     "output_type": "display_data"
    }
   ],
   "source": [
    "h_rel = gen_wave_rel(\n",
    "    M,\n",
    "    mu,\n",
    "    a,\n",
    "    p0,\n",
    "    e0,\n",
    "    x0,\n",
    "    dist,\n",
    "    qS,\n",
    "    phiS,\n",
    "    qK,\n",
    "    phiK,\n",
    "    Phi_phi0,\n",
    "    Phi_theta0,\n",
    "    Phi_r0,\n",
    "    T=T,\n",
    "    dt=dt,\n",
    ")\n",
    "\n",
    "h_aak = gen_wave_aak(\n",
    "    M,\n",
    "    mu,\n",
    "    a,\n",
    "    p0,\n",
    "    e0,\n",
    "    x0,\n",
    "    dist,\n",
    "    qS,\n",
    "    phiS,\n",
    "    qK,\n",
    "    phiK,\n",
    "    Phi_phi0,\n",
    "    Phi_theta0,\n",
    "    Phi_r0,\n",
    "    T=T,\n",
    "    dt=dt,\n",
    ")\n",
    "\n",
    "plt.plot(h_rel.real[:2000], label=\"FEW\")\n",
    "plt.plot(h_aak.real[:2000], label=\"AAK\")\n",
    "plt.xlabel(\"samples\", fontsize=14)\n",
    "plt.ylabel(\"h(t)\", fontsize=14)\n",
    "plt.legend()"
   ]
  },
  {
   "cell_type": "code",
   "execution_count": null,
   "id": "6420ade3",
   "metadata": {},
   "outputs": [],
   "source": []
  }
 ],
 "metadata": {
  "kernelspec": {
   "display_name": "Python 3 (ipykernel)",
   "language": "python",
   "name": "python3"
  },
  "language_info": {
   "codemirror_mode": {
    "name": "ipython",
    "version": 3
   },
   "file_extension": ".py",
   "mimetype": "text/x-python",
   "name": "python",
   "nbconvert_exporter": "python",
   "pygments_lexer": "ipython3",
   "version": "3.7.12"
  }
 },
 "nbformat": 4,
 "nbformat_minor": 5
}
